{
 "cells": [
  {
   "cell_type": "code",
   "execution_count": 3,
   "id": "7cecc4fd",
   "metadata": {},
   "outputs": [],
   "source": [
    "#import Libraries\n",
    "import pandas as pd\n",
    "import numpy as np\n",
    "from sklearn import pipeline,preprocessing,metrics,model_selection,ensemble\n",
    "from sklearn_pandas import DataFrameMapper"
   ]
  },
  {
   "cell_type": "code",
   "execution_count": 4,
   "id": "551b34f0",
   "metadata": {},
   "outputs": [
    {
     "name": "stdout",
     "output_type": "stream",
     "text": [
      "Hello World\n"
     ]
    }
   ],
   "source": [
    "print(\"Hello World\");"
   ]
  },
  {
   "cell_type": "markdown",
   "id": "989a54a0",
   "metadata": {},
   "source": [
    "# Load Dataset"
   ]
  },
  {
   "cell_type": "code",
   "execution_count": 7,
   "id": "0b30acab",
   "metadata": {},
   "outputs": [],
   "source": [
    "data=pd.read_csv('auto-mpg.csv')"
   ]
  },
  {
   "cell_type": "markdown",
   "id": "7cb506fb",
   "metadata": {},
   "source": [
    "# Show Dataset Head "
   ]
  },
  {
   "cell_type": "code",
   "execution_count": 8,
   "id": "e1a210a4",
   "metadata": {},
   "outputs": [
    {
     "data": {
      "text/html": [
       "<div>\n",
       "<style scoped>\n",
       "    .dataframe tbody tr th:only-of-type {\n",
       "        vertical-align: middle;\n",
       "    }\n",
       "\n",
       "    .dataframe tbody tr th {\n",
       "        vertical-align: top;\n",
       "    }\n",
       "\n",
       "    .dataframe thead th {\n",
       "        text-align: right;\n",
       "    }\n",
       "</style>\n",
       "<table border=\"1\" class=\"dataframe\">\n",
       "  <thead>\n",
       "    <tr style=\"text-align: right;\">\n",
       "      <th></th>\n",
       "      <th>mpg</th>\n",
       "      <th>cylinders</th>\n",
       "      <th>displacement</th>\n",
       "      <th>horsepower</th>\n",
       "      <th>weight</th>\n",
       "      <th>acceleration</th>\n",
       "      <th>model year</th>\n",
       "      <th>origin</th>\n",
       "      <th>car name</th>\n",
       "    </tr>\n",
       "  </thead>\n",
       "  <tbody>\n",
       "    <tr>\n",
       "      <th>0</th>\n",
       "      <td>18.0</td>\n",
       "      <td>8</td>\n",
       "      <td>307.0</td>\n",
       "      <td>130</td>\n",
       "      <td>3504</td>\n",
       "      <td>12.0</td>\n",
       "      <td>70</td>\n",
       "      <td>1</td>\n",
       "      <td>chevrolet chevelle malibu</td>\n",
       "    </tr>\n",
       "    <tr>\n",
       "      <th>1</th>\n",
       "      <td>15.0</td>\n",
       "      <td>8</td>\n",
       "      <td>350.0</td>\n",
       "      <td>165</td>\n",
       "      <td>3693</td>\n",
       "      <td>11.5</td>\n",
       "      <td>70</td>\n",
       "      <td>1</td>\n",
       "      <td>buick skylark 320</td>\n",
       "    </tr>\n",
       "    <tr>\n",
       "      <th>2</th>\n",
       "      <td>18.0</td>\n",
       "      <td>8</td>\n",
       "      <td>318.0</td>\n",
       "      <td>150</td>\n",
       "      <td>3436</td>\n",
       "      <td>11.0</td>\n",
       "      <td>70</td>\n",
       "      <td>1</td>\n",
       "      <td>plymouth satellite</td>\n",
       "    </tr>\n",
       "    <tr>\n",
       "      <th>3</th>\n",
       "      <td>16.0</td>\n",
       "      <td>8</td>\n",
       "      <td>304.0</td>\n",
       "      <td>150</td>\n",
       "      <td>3433</td>\n",
       "      <td>12.0</td>\n",
       "      <td>70</td>\n",
       "      <td>1</td>\n",
       "      <td>amc rebel sst</td>\n",
       "    </tr>\n",
       "    <tr>\n",
       "      <th>4</th>\n",
       "      <td>17.0</td>\n",
       "      <td>8</td>\n",
       "      <td>302.0</td>\n",
       "      <td>140</td>\n",
       "      <td>3449</td>\n",
       "      <td>10.5</td>\n",
       "      <td>70</td>\n",
       "      <td>1</td>\n",
       "      <td>ford torino</td>\n",
       "    </tr>\n",
       "  </tbody>\n",
       "</table>\n",
       "</div>"
      ],
      "text/plain": [
       "    mpg  cylinders  displacement horsepower  weight  acceleration  model year  \\\n",
       "0  18.0          8         307.0        130    3504          12.0          70   \n",
       "1  15.0          8         350.0        165    3693          11.5          70   \n",
       "2  18.0          8         318.0        150    3436          11.0          70   \n",
       "3  16.0          8         304.0        150    3433          12.0          70   \n",
       "4  17.0          8         302.0        140    3449          10.5          70   \n",
       "\n",
       "   origin                   car name  \n",
       "0       1  chevrolet chevelle malibu  \n",
       "1       1          buick skylark 320  \n",
       "2       1         plymouth satellite  \n",
       "3       1              amc rebel sst  \n",
       "4       1                ford torino  "
      ]
     },
     "execution_count": 8,
     "metadata": {},
     "output_type": "execute_result"
    }
   ],
   "source": [
    "data.head(5)"
   ]
  },
  {
   "cell_type": "markdown",
   "id": "8b438319",
   "metadata": {},
   "source": [
    "# Check For NULL Values"
   ]
  },
  {
   "cell_type": "code",
   "execution_count": 9,
   "id": "9283b3df",
   "metadata": {},
   "outputs": [
    {
     "data": {
      "text/plain": [
       "mpg             0\n",
       "cylinders       0\n",
       "displacement    0\n",
       "horsepower      0\n",
       "weight          0\n",
       "acceleration    0\n",
       "model year      0\n",
       "origin          0\n",
       "car name        0\n",
       "dtype: int64"
      ]
     },
     "execution_count": 9,
     "metadata": {},
     "output_type": "execute_result"
    }
   ],
   "source": [
    "data.isnull().sum()"
   ]
  },
  {
   "cell_type": "markdown",
   "id": "90953032",
   "metadata": {},
   "source": [
    "# See dataset shape"
   ]
  },
  {
   "cell_type": "code",
   "execution_count": 14,
   "id": "4818ab6a",
   "metadata": {},
   "outputs": [
    {
     "data": {
      "text/plain": [
       "(398, 9)"
      ]
     },
     "execution_count": 14,
     "metadata": {},
     "output_type": "execute_result"
    }
   ],
   "source": [
    "data.shape"
   ]
  },
  {
   "cell_type": "markdown",
   "id": "3c409df7",
   "metadata": {},
   "source": [
    "# Check Hoursepower Empry Values"
   ]
  },
  {
   "cell_type": "code",
   "execution_count": 15,
   "id": "56c3d01a",
   "metadata": {},
   "outputs": [
    {
     "data": {
      "text/html": [
       "<div>\n",
       "<style scoped>\n",
       "    .dataframe tbody tr th:only-of-type {\n",
       "        vertical-align: middle;\n",
       "    }\n",
       "\n",
       "    .dataframe tbody tr th {\n",
       "        vertical-align: top;\n",
       "    }\n",
       "\n",
       "    .dataframe thead th {\n",
       "        text-align: right;\n",
       "    }\n",
       "</style>\n",
       "<table border=\"1\" class=\"dataframe\">\n",
       "  <thead>\n",
       "    <tr style=\"text-align: right;\">\n",
       "      <th></th>\n",
       "      <th>mpg</th>\n",
       "      <th>cylinders</th>\n",
       "      <th>displacement</th>\n",
       "      <th>horsepower</th>\n",
       "      <th>weight</th>\n",
       "      <th>acceleration</th>\n",
       "      <th>model year</th>\n",
       "      <th>origin</th>\n",
       "      <th>car name</th>\n",
       "    </tr>\n",
       "  </thead>\n",
       "  <tbody>\n",
       "    <tr>\n",
       "      <th>32</th>\n",
       "      <td>25.0</td>\n",
       "      <td>4</td>\n",
       "      <td>98.0</td>\n",
       "      <td>?</td>\n",
       "      <td>2046</td>\n",
       "      <td>19.0</td>\n",
       "      <td>71</td>\n",
       "      <td>1</td>\n",
       "      <td>ford pinto</td>\n",
       "    </tr>\n",
       "    <tr>\n",
       "      <th>126</th>\n",
       "      <td>21.0</td>\n",
       "      <td>6</td>\n",
       "      <td>200.0</td>\n",
       "      <td>?</td>\n",
       "      <td>2875</td>\n",
       "      <td>17.0</td>\n",
       "      <td>74</td>\n",
       "      <td>1</td>\n",
       "      <td>ford maverick</td>\n",
       "    </tr>\n",
       "    <tr>\n",
       "      <th>330</th>\n",
       "      <td>40.9</td>\n",
       "      <td>4</td>\n",
       "      <td>85.0</td>\n",
       "      <td>?</td>\n",
       "      <td>1835</td>\n",
       "      <td>17.3</td>\n",
       "      <td>80</td>\n",
       "      <td>2</td>\n",
       "      <td>renault lecar deluxe</td>\n",
       "    </tr>\n",
       "    <tr>\n",
       "      <th>336</th>\n",
       "      <td>23.6</td>\n",
       "      <td>4</td>\n",
       "      <td>140.0</td>\n",
       "      <td>?</td>\n",
       "      <td>2905</td>\n",
       "      <td>14.3</td>\n",
       "      <td>80</td>\n",
       "      <td>1</td>\n",
       "      <td>ford mustang cobra</td>\n",
       "    </tr>\n",
       "    <tr>\n",
       "      <th>354</th>\n",
       "      <td>34.5</td>\n",
       "      <td>4</td>\n",
       "      <td>100.0</td>\n",
       "      <td>?</td>\n",
       "      <td>2320</td>\n",
       "      <td>15.8</td>\n",
       "      <td>81</td>\n",
       "      <td>2</td>\n",
       "      <td>renault 18i</td>\n",
       "    </tr>\n",
       "    <tr>\n",
       "      <th>374</th>\n",
       "      <td>23.0</td>\n",
       "      <td>4</td>\n",
       "      <td>151.0</td>\n",
       "      <td>?</td>\n",
       "      <td>3035</td>\n",
       "      <td>20.5</td>\n",
       "      <td>82</td>\n",
       "      <td>1</td>\n",
       "      <td>amc concord dl</td>\n",
       "    </tr>\n",
       "  </tbody>\n",
       "</table>\n",
       "</div>"
      ],
      "text/plain": [
       "      mpg  cylinders  displacement horsepower  weight  acceleration  \\\n",
       "32   25.0          4          98.0          ?    2046          19.0   \n",
       "126  21.0          6         200.0          ?    2875          17.0   \n",
       "330  40.9          4          85.0          ?    1835          17.3   \n",
       "336  23.6          4         140.0          ?    2905          14.3   \n",
       "354  34.5          4         100.0          ?    2320          15.8   \n",
       "374  23.0          4         151.0          ?    3035          20.5   \n",
       "\n",
       "     model year  origin              car name  \n",
       "32           71       1            ford pinto  \n",
       "126          74       1         ford maverick  \n",
       "330          80       2  renault lecar deluxe  \n",
       "336          80       1    ford mustang cobra  \n",
       "354          81       2           renault 18i  \n",
       "374          82       1        amc concord dl  "
      ]
     },
     "execution_count": 15,
     "metadata": {},
     "output_type": "execute_result"
    }
   ],
   "source": [
    "horsepower_missing_ind = data[data.horsepower=='?'].index\n",
    "data.loc[horsepower_missing_ind]"
   ]
  },
  {
   "cell_type": "markdown",
   "id": "bae814af",
   "metadata": {},
   "source": [
    "# Convert Hoursepower Obj to float"
   ]
  },
  {
   "cell_type": "code",
   "execution_count": 18,
   "id": "58f788b4",
   "metadata": {},
   "outputs": [],
   "source": [
    "data.loc[horsepower_missing_ind, 'horsepower'] = float('nan')\n",
    "data.horsepower = data.horsepower.apply(pd.to_numeric)\n",
    "data.loc[horsepower_missing_ind, 'horsepower'] = int( data.horsepower.mean() )"
   ]
  },
  {
   "cell_type": "code",
   "execution_count": 21,
   "id": "1fb82258",
   "metadata": {},
   "outputs": [
    {
     "data": {
      "text/html": [
       "<div>\n",
       "<style scoped>\n",
       "    .dataframe tbody tr th:only-of-type {\n",
       "        vertical-align: middle;\n",
       "    }\n",
       "\n",
       "    .dataframe tbody tr th {\n",
       "        vertical-align: top;\n",
       "    }\n",
       "\n",
       "    .dataframe thead th {\n",
       "        text-align: right;\n",
       "    }\n",
       "</style>\n",
       "<table border=\"1\" class=\"dataframe\">\n",
       "  <thead>\n",
       "    <tr style=\"text-align: right;\">\n",
       "      <th></th>\n",
       "      <th>mpg</th>\n",
       "      <th>cylinders</th>\n",
       "      <th>displacement</th>\n",
       "      <th>horsepower</th>\n",
       "      <th>weight</th>\n",
       "      <th>acceleration</th>\n",
       "      <th>model year</th>\n",
       "      <th>origin</th>\n",
       "    </tr>\n",
       "  </thead>\n",
       "  <tbody>\n",
       "    <tr>\n",
       "      <th>count</th>\n",
       "      <td>398.00</td>\n",
       "      <td>398.00</td>\n",
       "      <td>398.00</td>\n",
       "      <td>398.00</td>\n",
       "      <td>398.00</td>\n",
       "      <td>398.00</td>\n",
       "      <td>398.00</td>\n",
       "      <td>398.00</td>\n",
       "    </tr>\n",
       "    <tr>\n",
       "      <th>mean</th>\n",
       "      <td>23.51</td>\n",
       "      <td>5.45</td>\n",
       "      <td>193.43</td>\n",
       "      <td>104.46</td>\n",
       "      <td>2970.42</td>\n",
       "      <td>15.57</td>\n",
       "      <td>76.01</td>\n",
       "      <td>1.57</td>\n",
       "    </tr>\n",
       "    <tr>\n",
       "      <th>std</th>\n",
       "      <td>7.82</td>\n",
       "      <td>1.70</td>\n",
       "      <td>104.27</td>\n",
       "      <td>38.20</td>\n",
       "      <td>846.84</td>\n",
       "      <td>2.76</td>\n",
       "      <td>3.70</td>\n",
       "      <td>0.80</td>\n",
       "    </tr>\n",
       "    <tr>\n",
       "      <th>min</th>\n",
       "      <td>9.00</td>\n",
       "      <td>3.00</td>\n",
       "      <td>68.00</td>\n",
       "      <td>46.00</td>\n",
       "      <td>1613.00</td>\n",
       "      <td>8.00</td>\n",
       "      <td>70.00</td>\n",
       "      <td>1.00</td>\n",
       "    </tr>\n",
       "    <tr>\n",
       "      <th>25%</th>\n",
       "      <td>17.50</td>\n",
       "      <td>4.00</td>\n",
       "      <td>104.25</td>\n",
       "      <td>76.00</td>\n",
       "      <td>2223.75</td>\n",
       "      <td>13.83</td>\n",
       "      <td>73.00</td>\n",
       "      <td>1.00</td>\n",
       "    </tr>\n",
       "    <tr>\n",
       "      <th>50%</th>\n",
       "      <td>23.00</td>\n",
       "      <td>4.00</td>\n",
       "      <td>148.50</td>\n",
       "      <td>95.00</td>\n",
       "      <td>2803.50</td>\n",
       "      <td>15.50</td>\n",
       "      <td>76.00</td>\n",
       "      <td>1.00</td>\n",
       "    </tr>\n",
       "    <tr>\n",
       "      <th>75%</th>\n",
       "      <td>29.00</td>\n",
       "      <td>8.00</td>\n",
       "      <td>262.00</td>\n",
       "      <td>125.00</td>\n",
       "      <td>3608.00</td>\n",
       "      <td>17.18</td>\n",
       "      <td>79.00</td>\n",
       "      <td>2.00</td>\n",
       "    </tr>\n",
       "    <tr>\n",
       "      <th>max</th>\n",
       "      <td>46.60</td>\n",
       "      <td>8.00</td>\n",
       "      <td>455.00</td>\n",
       "      <td>230.00</td>\n",
       "      <td>5140.00</td>\n",
       "      <td>24.80</td>\n",
       "      <td>82.00</td>\n",
       "      <td>3.00</td>\n",
       "    </tr>\n",
       "  </tbody>\n",
       "</table>\n",
       "</div>"
      ],
      "text/plain": [
       "          mpg  cylinders  displacement  horsepower   weight  acceleration  \\\n",
       "count  398.00     398.00        398.00      398.00   398.00        398.00   \n",
       "mean    23.51       5.45        193.43      104.46  2970.42         15.57   \n",
       "std      7.82       1.70        104.27       38.20   846.84          2.76   \n",
       "min      9.00       3.00         68.00       46.00  1613.00          8.00   \n",
       "25%     17.50       4.00        104.25       76.00  2223.75         13.83   \n",
       "50%     23.00       4.00        148.50       95.00  2803.50         15.50   \n",
       "75%     29.00       8.00        262.00      125.00  3608.00         17.18   \n",
       "max     46.60       8.00        455.00      230.00  5140.00         24.80   \n",
       "\n",
       "       model year  origin  \n",
       "count      398.00  398.00  \n",
       "mean        76.01    1.57  \n",
       "std          3.70    0.80  \n",
       "min         70.00    1.00  \n",
       "25%         73.00    1.00  \n",
       "50%         76.00    1.00  \n",
       "75%         79.00    2.00  \n",
       "max         82.00    3.00  "
      ]
     },
     "execution_count": 21,
     "metadata": {},
     "output_type": "execute_result"
    }
   ],
   "source": [
    "data.describe()"
   ]
  },
  {
   "cell_type": "code",
   "execution_count": 22,
   "id": "674ad4a7",
   "metadata": {},
   "outputs": [
    {
     "data": {
      "text/html": [
       "<div>\n",
       "<style scoped>\n",
       "    .dataframe tbody tr th:only-of-type {\n",
       "        vertical-align: middle;\n",
       "    }\n",
       "\n",
       "    .dataframe tbody tr th {\n",
       "        vertical-align: top;\n",
       "    }\n",
       "\n",
       "    .dataframe thead th {\n",
       "        text-align: right;\n",
       "    }\n",
       "</style>\n",
       "<table border=\"1\" class=\"dataframe\">\n",
       "  <thead>\n",
       "    <tr style=\"text-align: right;\">\n",
       "      <th></th>\n",
       "      <th>mpg</th>\n",
       "      <th>cylinders</th>\n",
       "      <th>displacement</th>\n",
       "      <th>horsepower</th>\n",
       "      <th>weight</th>\n",
       "      <th>acceleration</th>\n",
       "      <th>model year</th>\n",
       "      <th>origin</th>\n",
       "      <th>car name</th>\n",
       "    </tr>\n",
       "  </thead>\n",
       "  <tbody>\n",
       "  </tbody>\n",
       "</table>\n",
       "</div>"
      ],
      "text/plain": [
       "Empty DataFrame\n",
       "Columns: [mpg, cylinders, displacement, horsepower, weight, acceleration, model year, origin, car name]\n",
       "Index: []"
      ]
     },
     "execution_count": 22,
     "metadata": {},
     "output_type": "execute_result"
    }
   ],
   "source": [
    "horsepower_missing_ind = data[data.horsepower=='?'].index\n",
    "data.loc[horsepower_missing_ind]"
   ]
  },
  {
   "cell_type": "code",
   "execution_count": 27,
   "id": "b93b9fe9",
   "metadata": {},
   "outputs": [],
   "source": [
    "data.to_csv('auto-mpg.csv', index=False)"
   ]
  },
  {
   "cell_type": "markdown",
   "id": "2ab32a63",
   "metadata": {},
   "source": [
    "# Replace the Proceed dataset"
   ]
  },
  {
   "cell_type": "code",
   "execution_count": 29,
   "id": "5f0dc652",
   "metadata": {},
   "outputs": [],
   "source": [
    "data=pd.read_csv('auto-mpg.csv')"
   ]
  },
  {
   "cell_type": "code",
   "execution_count": 30,
   "id": "bf5c095b",
   "metadata": {},
   "outputs": [
    {
     "data": {
      "text/plain": [
       "(398, 9)"
      ]
     },
     "execution_count": 30,
     "metadata": {},
     "output_type": "execute_result"
    }
   ],
   "source": [
    "data.shape"
   ]
  },
  {
   "cell_type": "code",
   "execution_count": 35,
   "id": "fd124814",
   "metadata": {},
   "outputs": [],
   "source": [
    "X=['cylinders', 'displacement', 'horsepower', 'weight',\n",
    "       'acceleration', 'model year', 'origin']\n",
    "Y=['mpg']"
   ]
  },
  {
   "cell_type": "code",
   "execution_count": 40,
   "id": "bcf83541",
   "metadata": {},
   "outputs": [],
   "source": [
    "from sklearn.ensemble import RandomForestClassifier"
   ]
  },
  {
   "cell_type": "code",
   "execution_count": 43,
   "id": "215008dc",
   "metadata": {},
   "outputs": [],
   "source": [
    "from sklearn.impute import SimpleImputer"
   ]
  },
  {
   "cell_type": "code",
   "execution_count": 47,
   "id": "87dedfb3",
   "metadata": {},
   "outputs": [],
   "source": [
    "pipeline_obj = pipeline.Pipeline([\n",
    "    (\"model\", ensemble.RandomForestRegressor())\n",
    "])"
   ]
  },
  {
   "cell_type": "markdown",
   "id": "b843bbe4",
   "metadata": {},
   "source": [
    "# Fit The Model "
   ]
  },
  {
   "cell_type": "code",
   "execution_count": 48,
   "id": "d769f3d5",
   "metadata": {},
   "outputs": [
    {
     "name": "stderr",
     "output_type": "stream",
     "text": [
      "/home/rayhan/.local/lib/python3.8/site-packages/sklearn/pipeline.py:346: DataConversionWarning: A column-vector y was passed when a 1d array was expected. Please change the shape of y to (n_samples,), for example using ravel().\n",
      "  self._final_estimator.fit(Xt, y, **fit_params_last_step)\n"
     ]
    },
    {
     "data": {
      "text/plain": [
       "Pipeline(steps=[('model', RandomForestRegressor())])"
      ]
     },
     "execution_count": 48,
     "metadata": {},
     "output_type": "execute_result"
    }
   ],
   "source": [
    "pipeline_obj.fit(data[X],data[Y])"
   ]
  },
  {
   "cell_type": "code",
   "execution_count": 49,
   "id": "81a242a6",
   "metadata": {},
   "outputs": [
    {
     "data": {
      "text/plain": [
       "array([17.4  , 14.895, 17.27 , 16.24 , 17.036, 14.63 , 13.94 , 14.19 ,\n",
       "       13.58 , 14.62 , 14.875, 14.5  , 15.195, 14.59 , 24.019, 21.438,\n",
       "       18.96 , 20.902, 27.025, 26.525, 24.475, 24.391, 24.56 , 25.129,\n",
       "       20.828, 10.62 , 11.015, 11.735,  9.44 , 27.065, 26.55 , 25.012,\n",
       "       25.72 , 19.514, 16.601, 17.46 , 18.55 , 18.106, 13.995, 13.67 ,\n",
       "       14.13 , 14.24 , 12.34 , 12.98 , 12.73 , 18.16 , 22.375, 18.591,\n",
       "       18.23 , 23.529, 27.205, 29.485, 29.265, 31.7  , 33.695, 26.96 ,\n",
       "       26.63 , 24.662, 25.44 , 23.66 , 20.703, 22.354, 13.31 , 13.645,\n",
       "       14.58 , 14.065, 16.07 , 11.75 , 12.865, 12.545, 13.01 , 20.354,\n",
       "       14.89 , 13.54 , 13.39 , 14.11 , 19.283, 22.435, 20.63 , 25.93 ,\n",
       "       22.71 , 26.79 , 22.969, 27.506, 26.98 , 13.33 , 14.54 , 13.57 ,\n",
       "       14.105, 14.665, 12.05 , 13.09 , 13.25 , 14.12 , 12.52 , 12.05 ,\n",
       "       13.45 , 18.427, 16.282, 18.385, 18.169, 21.837, 26.225, 11.46 ,\n",
       "       12.25 , 12.82 , 12.395, 18.44 , 22.232, 21.595, 22.89 , 22.415,\n",
       "       20.056, 21.39 , 26.03 , 14.34 , 14.94 , 28.92 , 24.495, 21.711,\n",
       "       19.967, 15.17 , 23.216, 20.592, 12.3  , 20.358, 20.354, 19.19 ,\n",
       "       16.259, 31.245, 25.401, 31.95 , 24.822, 16.345, 16.145, 17.821,\n",
       "       15.47 , 13.28 , 13.98 , 13.69 , 14.185, 27.635, 27.396, 26.057,\n",
       "       31.72 , 31.65 , 27.225, 25.09 , 25.83 , 23.902, 25.284, 29.783,\n",
       "       19.14 , 17.813, 15.503, 15.879, 15.1  , 14.845, 15.29 , 14.35 ,\n",
       "       17.238, 16.03 , 15.5  , 17.711, 20.239, 19.872, 15.203, 28.205,\n",
       "       23.858, 19.88 , 23.028, 23.975, 25.73 , 23.907, 19.096, 28.795,\n",
       "       18.885, 23.276, 22.268, 21.479, 24.039, 32.49 , 26.771, 25.315,\n",
       "       24.909, 25.899, 27.175, 16.49 , 15.61 , 16.262, 14.78 , 21.214,\n",
       "       20.849, 23.045, 21.244, 29.444, 25.994, 28.965, 32.877, 19.503,\n",
       "       18.447, 18.314, 18.278, 29.46 , 31.964, 27.835, 25.845, 20.054,\n",
       "       13.6  , 19.845, 19.632, 17.333, 15.535, 13.7  , 13.718, 13.64 ,\n",
       "       31.534, 29.92 , 33.572, 25.602, 33.378, 16.511, 16.894, 15.672,\n",
       "       15.269, 17.834, 20.16 , 19.033, 18.289, 15.85 , 15.639, 15.679,\n",
       "       15.753, 29.856, 24.689, 26.477, 24.977, 30.69 , 31.811, 30.621,\n",
       "       30.166, 21.762, 22.575, 21.797, 40.455, 35.24 , 35.151, 37.389,\n",
       "       35.219, 19.67 , 18.936, 19.469, 19.037, 20.196, 20.519, 24.851,\n",
       "       19.888, 19.778, 20.532, 20.695, 18.752, 18.932, 18.733, 17.723,\n",
       "       18.65 , 17.197, 30.382, 25.629, 26.319, 30.018, 23.213, 23.209,\n",
       "       23.363, 24.323, 21.198, 17.71 , 22.08 , 17.017, 31.905, 30.546,\n",
       "       21.376, 21.455, 23.413, 20.412, 20.677, 17.486, 17.875, 17.213,\n",
       "       17.897, 16.409, 16.161, 19.862, 17.753, 33.67 , 34.25 , 35.571,\n",
       "       27.84 , 25.956, 21.271, 27.496, 22.24 , 34.493, 34.456, 33.407,\n",
       "       36.473, 27.745, 27.938, 26.376, 30.958, 39.01 , 37.529, 33.285,\n",
       "       36.622, 27.787, 25.88 , 25.033, 20.672, 34.562, 29.93 , 31.24 ,\n",
       "       35.213, 33.059, 42.487, 26.619, 40.496, 43.038, 40.76 , 34.103,\n",
       "       30.018, 40.929, 38.961, 34.078, 32.402, 28.494, 27.138, 33.51 ,\n",
       "       24.418, 32.746, 28.371, 27.001, 26.536, 24.417, 31.133, 37.958,\n",
       "       37.937, 35.982, 33.264, 36.905, 36.948, 34.208, 34.661, 34.422,\n",
       "       31.764, 33.393, 33.867, 34.072, 32.711, 31.681, 31.211, 28.228,\n",
       "       28.663, 26.138, 25.69 , 21.933, 24.605, 22.174, 21.169, 28.468,\n",
       "       27.666, 33.334, 30.003, 29.052, 26.974, 24.804, 23.813, 35.986,\n",
       "       36.094, 33.224, 37.306, 35.348, 36.106, 35.558, 33.85 , 36.166,\n",
       "       33.859, 36.652, 25.232, 32.853, 27.044, 24.265, 30.383, 34.15 ,\n",
       "       26.097, 26.938, 41.565, 32.469, 28.365, 29.764])"
      ]
     },
     "execution_count": 49,
     "metadata": {},
     "output_type": "execute_result"
    }
   ],
   "source": [
    "pipeline_obj.predict(data[X])"
   ]
  },
  {
   "cell_type": "code",
   "execution_count": 50,
   "id": "1914e6ad",
   "metadata": {},
   "outputs": [],
   "source": [
    "temp={}\n",
    "temp['cylinders']=1\n",
    "temp['displacement']=2\n",
    "temp['horsepower']=3\n",
    "temp['weight']=4\n",
    "temp['acceleration']=5\n",
    "temp['model year']=6\n",
    "temp['origin']=1"
   ]
  },
  {
   "cell_type": "code",
   "execution_count": 51,
   "id": "00b23855",
   "metadata": {},
   "outputs": [],
   "source": [
    "testDtaa=pd.DataFrame({'x':temp}).transpose()"
   ]
  },
  {
   "cell_type": "code",
   "execution_count": 52,
   "id": "1c53318a",
   "metadata": {},
   "outputs": [
    {
     "data": {
      "text/html": [
       "<div>\n",
       "<style scoped>\n",
       "    .dataframe tbody tr th:only-of-type {\n",
       "        vertical-align: middle;\n",
       "    }\n",
       "\n",
       "    .dataframe tbody tr th {\n",
       "        vertical-align: top;\n",
       "    }\n",
       "\n",
       "    .dataframe thead th {\n",
       "        text-align: right;\n",
       "    }\n",
       "</style>\n",
       "<table border=\"1\" class=\"dataframe\">\n",
       "  <thead>\n",
       "    <tr style=\"text-align: right;\">\n",
       "      <th></th>\n",
       "      <th>acceleration</th>\n",
       "      <th>cylinders</th>\n",
       "      <th>displacement</th>\n",
       "      <th>horsepower</th>\n",
       "      <th>model year</th>\n",
       "      <th>origin</th>\n",
       "      <th>weight</th>\n",
       "    </tr>\n",
       "  </thead>\n",
       "  <tbody>\n",
       "    <tr>\n",
       "      <th>x</th>\n",
       "      <td>5</td>\n",
       "      <td>1</td>\n",
       "      <td>2</td>\n",
       "      <td>3</td>\n",
       "      <td>6</td>\n",
       "      <td>1</td>\n",
       "      <td>4</td>\n",
       "    </tr>\n",
       "  </tbody>\n",
       "</table>\n",
       "</div>"
      ],
      "text/plain": [
       "   acceleration  cylinders  displacement  horsepower  model year  origin  \\\n",
       "x             5          1             2           3           6       1   \n",
       "\n",
       "   weight  \n",
       "x       4  "
      ]
     },
     "execution_count": 52,
     "metadata": {},
     "output_type": "execute_result"
    }
   ],
   "source": [
    "testDtaa"
   ]
  },
  {
   "cell_type": "code",
   "execution_count": 55,
   "id": "cdcfc334",
   "metadata": {},
   "outputs": [
    {
     "data": {
      "text/plain": [
       "31.761999999999997"
      ]
     },
     "execution_count": 55,
     "metadata": {},
     "output_type": "execute_result"
    }
   ],
   "source": [
    "pipeline_obj.predict(testDtaa)[0]"
   ]
  },
  {
   "cell_type": "code",
   "execution_count": 58,
   "id": "8d155bdb",
   "metadata": {},
   "outputs": [],
   "source": [
    "import joblib"
   ]
  },
  {
   "cell_type": "code",
   "execution_count": 59,
   "id": "1299a8d5",
   "metadata": {},
   "outputs": [
    {
     "data": {
      "text/plain": [
       "['RFModelforMPG.pkl']"
      ]
     },
     "execution_count": 59,
     "metadata": {},
     "output_type": "execute_result"
    }
   ],
   "source": [
    "joblib.dump(pipeline_obj,'RFModelforMPG.pkl')"
   ]
  },
  {
   "cell_type": "markdown",
   "id": "36bbb119",
   "metadata": {},
   "source": [
    "# Save the model in Pkl Format"
   ]
  },
  {
   "cell_type": "code",
   "execution_count": 60,
   "id": "59c12b59",
   "metadata": {},
   "outputs": [],
   "source": [
    "modelReload=joblib.load('RFModelforMPG.pkl')"
   ]
  },
  {
   "cell_type": "code",
   "execution_count": 61,
   "id": "23dd4a15",
   "metadata": {},
   "outputs": [
    {
     "data": {
      "text/plain": [
       "array([17.4  , 14.895, 17.27 , 16.24 , 17.036, 14.63 , 13.94 , 14.19 ,\n",
       "       13.58 , 14.62 , 14.875, 14.5  , 15.195, 14.59 , 24.019, 21.438,\n",
       "       18.96 , 20.902, 27.025, 26.525, 24.475, 24.391, 24.56 , 25.129,\n",
       "       20.828, 10.62 , 11.015, 11.735,  9.44 , 27.065, 26.55 , 25.012,\n",
       "       25.72 , 19.514, 16.601, 17.46 , 18.55 , 18.106, 13.995, 13.67 ,\n",
       "       14.13 , 14.24 , 12.34 , 12.98 , 12.73 , 18.16 , 22.375, 18.591,\n",
       "       18.23 , 23.529, 27.205, 29.485, 29.265, 31.7  , 33.695, 26.96 ,\n",
       "       26.63 , 24.662, 25.44 , 23.66 , 20.703, 22.354, 13.31 , 13.645,\n",
       "       14.58 , 14.065, 16.07 , 11.75 , 12.865, 12.545, 13.01 , 20.354,\n",
       "       14.89 , 13.54 , 13.39 , 14.11 , 19.283, 22.435, 20.63 , 25.93 ,\n",
       "       22.71 , 26.79 , 22.969, 27.506, 26.98 , 13.33 , 14.54 , 13.57 ,\n",
       "       14.105, 14.665, 12.05 , 13.09 , 13.25 , 14.12 , 12.52 , 12.05 ,\n",
       "       13.45 , 18.427, 16.282, 18.385, 18.169, 21.837, 26.225, 11.46 ,\n",
       "       12.25 , 12.82 , 12.395, 18.44 , 22.232, 21.595, 22.89 , 22.415,\n",
       "       20.056, 21.39 , 26.03 , 14.34 , 14.94 , 28.92 , 24.495, 21.711,\n",
       "       19.967, 15.17 , 23.216, 20.592, 12.3  , 20.358, 20.354, 19.19 ,\n",
       "       16.259, 31.245, 25.401, 31.95 , 24.822, 16.345, 16.145, 17.821,\n",
       "       15.47 , 13.28 , 13.98 , 13.69 , 14.185, 27.635, 27.396, 26.057,\n",
       "       31.72 , 31.65 , 27.225, 25.09 , 25.83 , 23.902, 25.284, 29.783,\n",
       "       19.14 , 17.813, 15.503, 15.879, 15.1  , 14.845, 15.29 , 14.35 ,\n",
       "       17.238, 16.03 , 15.5  , 17.711, 20.239, 19.872, 15.203, 28.205,\n",
       "       23.858, 19.88 , 23.028, 23.975, 25.73 , 23.907, 19.096, 28.795,\n",
       "       18.885, 23.276, 22.268, 21.479, 24.039, 32.49 , 26.771, 25.315,\n",
       "       24.909, 25.899, 27.175, 16.49 , 15.61 , 16.262, 14.78 , 21.214,\n",
       "       20.849, 23.045, 21.244, 29.444, 25.994, 28.965, 32.877, 19.503,\n",
       "       18.447, 18.314, 18.278, 29.46 , 31.964, 27.835, 25.845, 20.054,\n",
       "       13.6  , 19.845, 19.632, 17.333, 15.535, 13.7  , 13.718, 13.64 ,\n",
       "       31.534, 29.92 , 33.572, 25.602, 33.378, 16.511, 16.894, 15.672,\n",
       "       15.269, 17.834, 20.16 , 19.033, 18.289, 15.85 , 15.639, 15.679,\n",
       "       15.753, 29.856, 24.689, 26.477, 24.977, 30.69 , 31.811, 30.621,\n",
       "       30.166, 21.762, 22.575, 21.797, 40.455, 35.24 , 35.151, 37.389,\n",
       "       35.219, 19.67 , 18.936, 19.469, 19.037, 20.196, 20.519, 24.851,\n",
       "       19.888, 19.778, 20.532, 20.695, 18.752, 18.932, 18.733, 17.723,\n",
       "       18.65 , 17.197, 30.382, 25.629, 26.319, 30.018, 23.213, 23.209,\n",
       "       23.363, 24.323, 21.198, 17.71 , 22.08 , 17.017, 31.905, 30.546,\n",
       "       21.376, 21.455, 23.413, 20.412, 20.677, 17.486, 17.875, 17.213,\n",
       "       17.897, 16.409, 16.161, 19.862, 17.753, 33.67 , 34.25 , 35.571,\n",
       "       27.84 , 25.956, 21.271, 27.496, 22.24 , 34.493, 34.456, 33.407,\n",
       "       36.473, 27.745, 27.938, 26.376, 30.958, 39.01 , 37.529, 33.285,\n",
       "       36.622, 27.787, 25.88 , 25.033, 20.672, 34.562, 29.93 , 31.24 ,\n",
       "       35.213, 33.059, 42.487, 26.619, 40.496, 43.038, 40.76 , 34.103,\n",
       "       30.018, 40.929, 38.961, 34.078, 32.402, 28.494, 27.138, 33.51 ,\n",
       "       24.418, 32.746, 28.371, 27.001, 26.536, 24.417, 31.133, 37.958,\n",
       "       37.937, 35.982, 33.264, 36.905, 36.948, 34.208, 34.661, 34.422,\n",
       "       31.764, 33.393, 33.867, 34.072, 32.711, 31.681, 31.211, 28.228,\n",
       "       28.663, 26.138, 25.69 , 21.933, 24.605, 22.174, 21.169, 28.468,\n",
       "       27.666, 33.334, 30.003, 29.052, 26.974, 24.804, 23.813, 35.986,\n",
       "       36.094, 33.224, 37.306, 35.348, 36.106, 35.558, 33.85 , 36.166,\n",
       "       33.859, 36.652, 25.232, 32.853, 27.044, 24.265, 30.383, 34.15 ,\n",
       "       26.097, 26.938, 41.565, 32.469, 28.365, 29.764])"
      ]
     },
     "execution_count": 61,
     "metadata": {},
     "output_type": "execute_result"
    }
   ],
   "source": [
    "modelReload.predict(data[X])"
   ]
  },
  {
   "cell_type": "code",
   "execution_count": 62,
   "id": "68f00cc4",
   "metadata": {},
   "outputs": [
    {
     "data": {
      "text/plain": [
       "31.761999999999997"
      ]
     },
     "execution_count": 62,
     "metadata": {},
     "output_type": "execute_result"
    }
   ],
   "source": [
    "modelReload.predict(testDtaa)[0]"
   ]
  },
  {
   "cell_type": "code",
   "execution_count": null,
   "id": "7236886a",
   "metadata": {},
   "outputs": [],
   "source": []
  }
 ],
 "metadata": {
  "kernelspec": {
   "display_name": "Python 3 (ipykernel)",
   "language": "python",
   "name": "python3"
  },
  "language_info": {
   "codemirror_mode": {
    "name": "ipython",
    "version": 3
   },
   "file_extension": ".py",
   "mimetype": "text/x-python",
   "name": "python",
   "nbconvert_exporter": "python",
   "pygments_lexer": "ipython3",
   "version": "3.8.10"
  }
 },
 "nbformat": 4,
 "nbformat_minor": 5
}
